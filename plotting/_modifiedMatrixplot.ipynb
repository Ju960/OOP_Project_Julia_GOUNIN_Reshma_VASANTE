{
 "cells": [
  {
   "cell_type": "code",
   "execution_count": 1,
   "id": "faf62b48",
   "metadata": {},
   "outputs": [],
   "source": [
    "import scanpy as sc\n",
    "import warnings"
   ]
  },
  {
   "cell_type": "markdown",
   "id": "b74f2f92",
   "metadata": {},
   "source": [
    "LOADING THE NECESSARY DATA"
   ]
  },
  {
   "cell_type": "code",
   "execution_count": 2,
   "id": "21942142",
   "metadata": {},
   "outputs": [],
   "source": [
    "#Dataset\n",
    "pbmc = sc.datasets.pbmc68k_reduced()\n",
    "\n",
    "#List of genes of interest\n",
    "gene_list = ['CD79A', 'MS4A1', 'FCER1A', 'CST3', 'FCGR3A', 'GNLY', 'NKG7', 'IGLL1', 'IGJ', 'CD3D']\n",
    "\n",
    "#Calculation of clusters\n",
    "sc.tl.leiden(pbmc, key_added='clusters', resolution=0.5)\n",
    "\n",
    "#Mapping clusters to cell annotations\n",
    "cluster2annotation = {\n",
    "    '0': 'Monocytes',\n",
    "     '1': 'Dendritic',\n",
    "     '2': 'T-cell',\n",
    "     '3': 'NK',\n",
    "     '4': 'B-cell',\n",
    "     '5': 'Dendritic',\n",
    "     '6': 'Plasma',\n",
    "     '7': 'Other',\n",
    "     '8': 'Dendritic',\n",
    "}\n",
    "pbmc.obs['cell type'] = pbmc.obs['clusters'].map(cluster2annotation).astype('category')\n",
    "\n",
    "#Marker gene set\n",
    "marker_genes_dict = {\n",
    "    'B-cell': ['CD79A', 'MS4A1'],\n",
    "    'Dendritic': ['FCER1A', 'CST3'],\n",
    "    'Monocytes': ['FCGR3A'],\n",
    "    'NK': ['GNLY', 'NKG7'],\n",
    "    'Other': ['IGLL1'],\n",
    "    'Plasma': ['IGJ'],\n",
    "    'T-cell': ['CD3D'],\n",
    "}"
   ]
  },
  {
   "cell_type": "markdown",
   "id": "f7ce7bbf",
   "metadata": {},
   "source": [
    "THE MATRIXPLOT CHOSEN TO ADD MODIFICATIONS"
   ]
  },
  {
   "cell_type": "code",
   "execution_count": 3,
   "id": "fbb660ab",
   "metadata": {},
   "outputs": [
    {
     "name": "stdout",
     "output_type": "stream",
     "text": [
      "WARNING: dendrogram data not found (using key=dendrogram_clusters). Running `sc.tl.dendrogram` with default parameters. For fine tuning it is recommended to run `sc.tl.dendrogram` independently.\n"
     ]
    },
    {
     "name": "stdout",
     "output_type": "stream",
     "text": [
      "WARNING: Groups are not reordered because the `groupby` categories and the `var_group_labels` are different.\n",
      "categories: 0, 1, 2, etc.\n",
      "var_group_labels: B-cell, Dendritic, Monocytes, etc.\n"
     ]
    },
    {
     "name": "stderr",
     "output_type": "stream",
     "text": [
      "/usr/local/lib/python3.11/site-packages/scanpy/plotting/_matrixplot.py:143: FutureWarning: The default of observed=False is deprecated and will be changed to True in a future version of pandas. Pass observed=False to retain current behavior or observed=True to adopt the future default and silence this warning.\n",
      "  values_df = self.obs_tidy.groupby(level=0).mean()\n",
      "/usr/local/lib/python3.11/site-packages/scanpy/tools/_dendrogram.py:135: FutureWarning: The default of observed=False is deprecated and will be changed to True in a future version of pandas. Pass observed=False to retain current behavior or observed=True to adopt the future default and silence this warning.\n",
      "  mean_df = rep_df.groupby(level=0).mean()\n"
     ]
    },
    {
     "data": {
      "image/png": "[encoded data removed]",
      "text/plain": [
       "<Figure size 600x415 with 5 Axes>"
      ]
     },
     "metadata": {},
     "output_type": "display_data"
    }
   ],
   "source": [
    "\n",
    "sc.pl.matrixplot(pbmc, marker_genes_dict, 'clusters', dendrogram=True, cmap='Blues', standard_scale='var', colorbar_title='column scaled\\nexpression')"
   ]
  },
  {
   "cell_type": "markdown",
   "id": "aa4ef351",
   "metadata": {},
   "source": [
    "MODIFICATION OF THE MATRIXPLOT WITH WIDGETS"
   ]
  },
  {
   "cell_type": "code",
   "execution_count": 9,
   "id": "30e920c8",
   "metadata": {},
   "outputs": [
    {
     "data": {
      "application/vnd.jupyter.widget-view+json": {
       "model_id": "a3c474114de442c8910f822e27f8c6f1",
       "version_major": 2,
       "version_minor": 0
      },
      "text/plain": [
       "SelectMultiple(description='Genes', options=('CD79A', 'MS4A1', 'FCER1A', 'CST3', 'FCGR3A', 'GNLY', 'NKG7', 'IG…"
      ]
     },
     "metadata": {},
     "output_type": "display_data"
    },
    {
     "data": {
      "application/vnd.jupyter.widget-view+json": {
       "model_id": "4f53bdb524f54f6fa438ee89ae9602ea",
       "version_major": 2,
       "version_minor": 0
      },
      "text/plain": [
       "SelectMultiple(description='Cell Types', options=('Monocytes', 'NK', 'T-cell', 'Dendritic', 'Plasma', 'B-cell'…"
      ]
     },
     "metadata": {},
     "output_type": "display_data"
    },
    {
     "data": {
      "application/vnd.jupyter.widget-view+json": {
       "model_id": "5e6007862ec148678a6705db30268f3f",
       "version_major": 2,
       "version_minor": 0
      },
      "text/plain": [
       "Dropdown(description='Scale:', options=('var', 'obs', None), value='var')"
      ]
     },
     "metadata": {},
     "output_type": "display_data"
    },
    {
     "data": {
      "application/vnd.jupyter.widget-view+json": {
       "model_id": "76daa77d8f0b47b0b1ba6bb08f008e4f",
       "version_major": 2,
       "version_minor": 0
      },
      "text/plain": [
       "Dropdown(description='Color Map:', index=5, options=('viridis', 'plasma', 'inferno', 'magma', 'cividis', 'Blue…"
      ]
     },
     "metadata": {},
     "output_type": "display_data"
    },
    {
     "data": {
      "application/vnd.jupyter.widget-view+json": {
       "model_id": "91ffd0116c3d41debe7069440c0efcc9",
       "version_major": 2,
       "version_minor": 0
      },
      "text/plain": [
       "Button(description='Update Graph', style=ButtonStyle())"
      ]
     },
     "metadata": {},
     "output_type": "display_data"
    },
    {
     "data": {
      "application/vnd.jupyter.widget-view+json": {
       "model_id": "aa056ec71f29496599f4ddac136e64f4",
       "version_major": 2,
       "version_minor": 0
      },
      "text/plain": [
       "Output()"
      ]
     },
     "metadata": {},
     "output_type": "display_data"
    }
   ],
   "source": [
    "from _matrixPlot_widget import InteractiveMatrixPlot\n",
    "warnings.filterwarnings('ignore')\n",
    "\n",
    "ip = InteractiveMatrixPlot(pbmc, gene_list)\n",
    "ip.display_widgets()"
   ]
  },
  {
   "cell_type": "markdown",
   "id": "142ebde7",
   "metadata": {},
   "source": [
    "MODIFICATION OF THE MATRIXPLOT WITH PLOTLY"
   ]
  },
  {
   "cell_type": "code",
   "execution_count": 5,
   "id": "9cdbebec",
   "metadata": {},
   "outputs": [
    {
     "data": {
      "application/vnd.jupyter.widget-view+json": {
       "model_id": "208dc2c785e54539988e3ad698480e9a",
       "version_major": 2,
       "version_minor": 0
      },
      "text/plain": [
       "VBox(children=(HBox(children=(SelectMultiple(description='Groups:', options=('B-cell', 'Dendritic', 'Monocytes…"
      ]
     },
     "metadata": {},
     "output_type": "display_data"
    },
    {
     "data": {
      "application/vnd.plotly.v1+json": {
       "config": {
        "plotlyServerURL": "https://plot.ly"
       },
       "data": [
        {
         "colorscale": [
          [
           0,
           "#000004"
          ],
          [
           0.1111111111111111,
           "#180f3d"
          ],
          [
           0.2222222222222222,
           "#440f76"
          ],
          [
           0.3333333333333333,
           "#721f81"
          ],
          [
           0.4444444444444444,
           "#9e2f7f"
          ],
          [
           0.5555555555555556,
           "#cd4071"
          ],
          [
           0.6666666666666666,
           "#f1605d"
          ],
          [
           0.7777777777777778,
           "#fd9668"
          ],
          [
           0.8888888888888888,
           "#feca8d"
          ],
          [
           1,
           "#fcfdbf"
          ]
         ],
         "hoverinfo": "text",
         "hoverongaps": false,
         "text": [
          [
           "<b>CD79A</b><br>Mean: -0.35<br>Median: -0.37<br>Std: 0.11",
           "<b>MS4A1</b><br>Mean: -0.27<br>Median: -0.28<br>Std: 0.08",
           "<b>FCGR3A</b><br>Mean: 1.36<br>Median: 1.18<br>Std: 1.01",
           "<b>IGLL1</b><br>Mean: -0.06<br>Median: -0.06<br>Std: 0.00"
          ],
          [
           "<b>CD79A</b><br>Mean: -0.37<br>Median: -0.37<br>Std: 0.02",
           "<b>MS4A1</b><br>Mean: -0.28<br>Median: -0.28<br>Std: 0.00",
           "<b>FCGR3A</b><br>Mean: -0.51<br>Median: -0.51<br>Std: 0.03",
           "<b>IGLL1</b><br>Mean: -0.06<br>Median: -0.06<br>Std: 0.00"
          ],
          [
           "<b>CD79A</b><br>Mean: -0.29<br>Median: -0.37<br>Std: 0.26",
           "<b>MS4A1</b><br>Mean: -0.23<br>Median: -0.28<br>Std: 0.30",
           "<b>FCGR3A</b><br>Mean: -0.51<br>Median: -0.51<br>Std: 0.03",
           "<b>IGLL1</b><br>Mean: -0.06<br>Median: -0.06<br>Std: 0.00"
          ],
          [
           "<b>CD79A</b><br>Mean: -0.36<br>Median: -0.37<br>Std: 0.05",
           "<b>MS4A1</b><br>Mean: -0.25<br>Median: -0.28<br>Std: 0.15",
           "<b>FCGR3A</b><br>Mean: -0.32<br>Median: -0.51<br>Std: 0.29",
           "<b>IGLL1</b><br>Mean: -0.06<br>Median: -0.06<br>Std: 0.00"
          ],
          [
           "<b>CD79A</b><br>Mean: 2.28<br>Median: 2.26<br>Std: 1.01",
           "<b>MS4A1</b><br>Mean: 2.43<br>Median: 2.16<br>Std: 1.97",
           "<b>FCGR3A</b><br>Mean: -0.50<br>Median: -0.51<br>Std: 0.06",
           "<b>IGLL1</b><br>Mean: -0.06<br>Median: -0.06<br>Std: 0.00"
          ],
          [
           "<b>CD79A</b><br>Mean: -0.34<br>Median: -0.37<br>Std: 0.11",
           "<b>MS4A1</b><br>Mean: -0.28<br>Median: -0.28<br>Std: 0.00",
           "<b>FCGR3A</b><br>Mean: -0.51<br>Median: -0.51<br>Std: 0.00",
           "<b>IGLL1</b><br>Mean: -0.06<br>Median: -0.06<br>Std: 0.00"
          ],
          [
           "<b>CD79A</b><br>Mean: 1.92<br>Median: 1.18<br>Std: 2.17",
           "<b>MS4A1</b><br>Mean: -0.07<br>Median: -0.28<br>Std: 0.82",
           "<b>FCGR3A</b><br>Mean: -0.50<br>Median: -0.51<br>Std: 0.05",
           "<b>IGLL1</b><br>Mean: -0.06<br>Median: -0.06<br>Std: 0.00"
          ],
          [
           "<b>CD79A</b><br>Mean: -0.32<br>Median: -0.37<br>Std: 0.18",
           "<b>MS4A1</b><br>Mean: -0.14<br>Median: -0.28<br>Std: 0.49",
           "<b>FCGR3A</b><br>Mean: -0.51<br>Median: -0.51<br>Std: 0.00",
           "<b>IGLL1</b><br>Mean: 5.76<br>Median: 2.17<br>Std: 8.81"
          ],
          [
           "<b>CD79A</b><br>Mean: -0.34<br>Median: -0.37<br>Std: 0.08",
           "<b>MS4A1</b><br>Mean: -0.28<br>Median: -0.28<br>Std: 0.00",
           "<b>FCGR3A</b><br>Mean: -0.51<br>Median: -0.51<br>Std: 0.00",
           "<b>IGLL1</b><br>Mean: -0.06<br>Median: -0.06<br>Std: 0.00"
          ]
         ],
         "type": "heatmap",
         "x": [
          "B-cell_CD79A",
          "B-cell_MS4A1",
          "Monocytes_FCGR3A",
          "Other_IGLL1"
         ],
         "y": [
          "0",
          "1",
          "2",
          "3",
          "4",
          "5",
          "6",
          "7",
          "8"
         ],
         "z": [
          [
           -0.3486629128456116,
           -0.2700842618942261,
           1.355073094367981,
           -0.06200000271201134
          ],
          [
           -0.36727026104927063,
           -0.27900001406669617,
           -0.511405348777771,
           -0.06199999898672104
          ],
          [
           -0.29059308767318726,
           -0.23277932405471802,
           -0.5118827819824219,
           -0.06199999898672104
          ],
          [
           -0.3605068325996399,
           -0.25435617566108704,
           -0.3168903887271881,
           -0.06199999898672104
          ],
          [
           2.2770907878875732,
           2.4323484897613525,
           -0.5033788084983826,
           -0.06199999898672104
          ],
          [
           -0.3416571319103241,
           -0.27900001406669617,
           -0.5149999856948853,
           -0.06200000271201134
          ],
          [
           1.9212812185287476,
           -0.06978125870227814,
           -0.5030312538146973,
           -0.06199999898672104
          ],
          [
           -0.31853845715522766,
           -0.14253847301006317,
           -0.5149999856948853,
           5.764769554138184
          ],
          [
           -0.3449999690055847,
           -0.27900001406669617,
           -0.5149999856948853,
           -0.06199999898672104
          ]
         ]
        }
       ],
       "layout": {
        "hovermode": "closest",
        "template": {
         "data": {
          "bar": [
           {
            "error_x": {
             "color": "#2a3f5f"
            },
            "error_y": {
             "color": "#2a3f5f"
            },
            "marker": {
             "line": {
              "color": "white",
              "width": 0.5
             },
             "pattern": {
              "fillmode": "overlay",
              "size": 10,
              "solidity": 0.2
             }
            },
            "type": "bar"
           }
          ],
          "barpolar": [
           {
            "marker": {
             "line": {
              "color": "white",
              "width": 0.5
             },
             "pattern": {
              "fillmode": "overlay",
              "size": 10,
              "solidity": 0.2
             }
            },
            "type": "barpolar"
           }
          ],
          "carpet": [
           {
            "aaxis": {
             "endlinecolor": "#2a3f5f",
             "gridcolor": "#C8D4E3",
             "linecolor": "#C8D4E3",
             "minorgridcolor": "#C8D4E3",
             "startlinecolor": "#2a3f5f"
            },
            "baxis": {
             "endlinecolor": "#2a3f5f",
             "gridcolor": "#C8D4E3",
             "linecolor": "#C8D4E3",
             "minorgridcolor": "#C8D4E3",
             "startlinecolor": "#2a3f5f"
            },
            "type": "carpet"
           }
          ],
          "choropleth": [
           {
            "colorbar": {
             "outlinewidth": 0,
             "ticks": ""
            },
            "type": "choropleth"
           }
          ],
          "contour": [
           {
            "colorbar": {
             "outlinewidth": 0,
             "ticks": ""
            },
            "colorscale": [
             [
              0,
              "#0d0887"
             ],
             [
              0.1111111111111111,
              "#46039f"
             ],
             [
              0.2222222222222222,
              "#7201a8"
             ],
             [
              0.3333333333333333,
              "#9c179e"
             ],
             [
              0.4444444444444444,
              "#bd3786"
             ],
             [
              0.5555555555555556,
              "#d8576b"
             ],
             [
              0.6666666666666666,
              "#ed7953"
             ],
             [
              0.7777777777777778,
              "#fb9f3a"
             ],
             [
              0.8888888888888888,
              "#fdca26"
             ],
             [
              1,
              "#f0f921"
             ]
            ],
            "type": "contour"
           }
          ],
          "contourcarpet": [
           {
            "colorbar": {
             "outlinewidth": 0,
             "ticks": ""
            },
            "type": "contourcarpet"
           }
          ],
          "heatmap": [
           {
            "colorbar": {
             "outlinewidth": 0,
             "ticks": ""
            },
            "colorscale": [
             [
              0,
              "#0d0887"
             ],
             [
              0.1111111111111111,
              "#46039f"
             ],
             [
              0.2222222222222222,
              "#7201a8"
             ],
             [
              0.3333333333333333,
              "#9c179e"
             ],
             [
              0.4444444444444444,
              "#bd3786"
             ],
             [
              0.5555555555555556,
              "#d8576b"
             ],
             [
              0.6666666666666666,
              "#ed7953"
             ],
             [
              0.7777777777777778,
              "#fb9f3a"
             ],
             [
              0.8888888888888888,
              "#fdca26"
             ],
             [
              1,
              "#f0f921"
             ]
            ],
            "type": "heatmap"
           }
          ],
          "heatmapgl": [
           {
            "colorbar": {
             "outlinewidth": 0,
             "ticks": ""
            },
            "colorscale": [
             [
              0,
              "#0d0887"
             ],
             [
              0.1111111111111111,
              "#46039f"
             ],
             [
              0.2222222222222222,
              "#7201a8"
             ],
             [
              0.3333333333333333,
              "#9c179e"
             ],
             [
              0.4444444444444444,
              "#bd3786"
             ],
             [
              0.5555555555555556,
              "#d8576b"
             ],
             [
              0.6666666666666666,
              "#ed7953"
             ],
             [
              0.7777777777777778,
              "#fb9f3a"
             ],
             [
              0.8888888888888888,
              "#fdca26"
             ],
             [
              1,
              "#f0f921"
             ]
            ],
            "type": "heatmapgl"
           }
          ],
          "histogram": [
           {
            "marker": {
             "pattern": {
              "fillmode": "overlay",
              "size": 10,
              "solidity": 0.2
             }
            },
            "type": "histogram"
           }
          ],
          "histogram2d": [
           {
            "colorbar": {
             "outlinewidth": 0,
             "ticks": ""
            },
            "colorscale": [
             [
              0,
              "#0d0887"
             ],
             [
              0.1111111111111111,
              "#46039f"
             ],
             [
              0.2222222222222222,
              "#7201a8"
             ],
             [
              0.3333333333333333,
              "#9c179e"
             ],
             [
              0.4444444444444444,
              "#bd3786"
             ],
             [
              0.5555555555555556,
              "#d8576b"
             ],
             [
              0.6666666666666666,
              "#ed7953"
             ],
             [
              0.7777777777777778,
              "#fb9f3a"
             ],
             [
              0.8888888888888888,
              "#fdca26"
             ],
             [
              1,
              "#f0f921"
             ]
            ],
            "type": "histogram2d"
           }
          ],
          "histogram2dcontour": [
           {
            "colorbar": {
             "outlinewidth": 0,
             "ticks": ""
            },
            "colorscale": [
             [
              0,
              "#0d0887"
             ],
             [
              0.1111111111111111,
              "#46039f"
             ],
             [
              0.2222222222222222,
              "#7201a8"
             ],
             [
              0.3333333333333333,
              "#9c179e"
             ],
             [
              0.4444444444444444,
              "#bd3786"
             ],
             [
              0.5555555555555556,
              "#d8576b"
             ],
             [
              0.6666666666666666,
              "#ed7953"
             ],
             [
              0.7777777777777778,
              "#fb9f3a"
             ],
             [
              0.8888888888888888,
              "#fdca26"
             ],
             [
              1,
              "#f0f921"
             ]
            ],
            "type": "histogram2dcontour"
           }
          ],
          "mesh3d": [
           {
            "colorbar": {
             "outlinewidth": 0,
             "ticks": ""
            },
            "type": "mesh3d"
           }
          ],
          "parcoords": [
           {
            "line": {
             "colorbar": {
              "outlinewidth": 0,
              "ticks": ""
             }
            },
            "type": "parcoords"
           }
          ],
          "pie": [
           {
            "automargin": true,
            "type": "pie"
           }
          ],
          "scatter": [
           {
            "fillpattern": {
             "fillmode": "overlay",
             "size": 10,
             "solidity": 0.2
            },
            "type": "scatter"
           }
          ],
          "scatter3d": [
           {
            "line": {
             "colorbar": {
              "outlinewidth": 0,
              "ticks": ""
             }
            },
            "marker": {
             "colorbar": {
              "outlinewidth": 0,
              "ticks": ""
             }
            },
            "type": "scatter3d"
           }
          ],
          "scattercarpet": [
           {
            "marker": {
             "colorbar": {
              "outlinewidth": 0,
              "ticks": ""
             }
            },
            "type": "scattercarpet"
           }
          ],
          "scattergeo": [
           {
            "marker": {
             "colorbar": {
              "outlinewidth": 0,
              "ticks": ""
             }
            },
            "type": "scattergeo"
           }
          ],
          "scattergl": [
           {
            "marker": {
             "colorbar": {
              "outlinewidth": 0,
              "ticks": ""
             }
            },
            "type": "scattergl"
           }
          ],
          "scattermapbox": [
           {
            "marker": {
             "colorbar": {
              "outlinewidth": 0,
              "ticks": ""
             }
            },
            "type": "scattermapbox"
           }
          ],
          "scatterpolar": [
           {
            "marker": {
             "colorbar": {
              "outlinewidth": 0,
              "ticks": ""
             }
            },
            "type": "scatterpolar"
           }
          ],
          "scatterpolargl": [
           {
            "marker": {
             "colorbar": {
              "outlinewidth": 0,
              "ticks": ""
             }
            },
            "type": "scatterpolargl"
           }
          ],
          "scatterternary": [
           {
            "marker": {
             "colorbar": {
              "outlinewidth": 0,
              "ticks": ""
             }
            },
            "type": "scatterternary"
           }
          ],
          "surface": [
           {
            "colorbar": {
             "outlinewidth": 0,
             "ticks": ""
            },
            "colorscale": [
             [
              0,
              "#0d0887"
             ],
             [
              0.1111111111111111,
              "#46039f"
             ],
             [
              0.2222222222222222,
              "#7201a8"
             ],
             [
              0.3333333333333333,
              "#9c179e"
             ],
             [
              0.4444444444444444,
              "#bd3786"
             ],
             [
              0.5555555555555556,
              "#d8576b"
             ],
             [
              0.6666666666666666,
              "#ed7953"
             ],
             [
              0.7777777777777778,
              "#fb9f3a"
             ],
             [
              0.8888888888888888,
              "#fdca26"
             ],
             [
              1,
              "#f0f921"
             ]
            ],
            "type": "surface"
           }
          ],
          "table": [
           {
            "cells": {
             "fill": {
              "color": "#EBF0F8"
             },
             "line": {
              "color": "white"
             }
            },
            "header": {
             "fill": {
              "color": "#C8D4E3"
             },
             "line": {
              "color": "white"
             }
            },
            "type": "table"
           }
          ]
         },
         "layout": {
          "annotationdefaults": {
           "arrowcolor": "#2a3f5f",
           "arrowhead": 0,
           "arrowwidth": 1
          },
          "autotypenumbers": "strict",
          "coloraxis": {
           "colorbar": {
            "outlinewidth": 0,
            "ticks": ""
           }
          },
          "colorscale": {
           "diverging": [
            [
             0,
             "#8e0152"
            ],
            [
             0.1,
             "#c51b7d"
            ],
            [
             0.2,
             "#de77ae"
            ],
            [
             0.3,
             "#f1b6da"
            ],
            [
             0.4,
             "#fde0ef"
            ],
            [
             0.5,
             "#f7f7f7"
            ],
            [
             0.6,
             "#e6f5d0"
            ],
            [
             0.7,
             "#b8e186"
            ],
            [
             0.8,
             "#7fbc41"
            ],
            [
             0.9,
             "#4d9221"
            ],
            [
             1,
             "#276419"
            ]
           ],
           "sequential": [
            [
             0,
             "#0d0887"
            ],
            [
             0.1111111111111111,
             "#46039f"
            ],
            [
             0.2222222222222222,
             "#7201a8"
            ],
            [
             0.3333333333333333,
             "#9c179e"
            ],
            [
             0.4444444444444444,
             "#bd3786"
            ],
            [
             0.5555555555555556,
             "#d8576b"
            ],
            [
             0.6666666666666666,
             "#ed7953"
            ],
            [
             0.7777777777777778,
             "#fb9f3a"
            ],
            [
             0.8888888888888888,
             "#fdca26"
            ],
            [
             1,
             "#f0f921"
            ]
           ],
           "sequentialminus": [
            [
             0,
             "#0d0887"
            ],
            [
             0.1111111111111111,
             "#46039f"
            ],
            [
             0.2222222222222222,
             "#7201a8"
            ],
            [
             0.3333333333333333,
             "#9c179e"
            ],
            [
             0.4444444444444444,
             "#bd3786"
            ],
            [
             0.5555555555555556,
             "#d8576b"
            ],
            [
             0.6666666666666666,
             "#ed7953"
            ],
            [
             0.7777777777777778,
             "#fb9f3a"
            ],
            [
             0.8888888888888888,
             "#fdca26"
            ],
            [
             1,
             "#f0f921"
            ]
           ]
          },
          "colorway": [
           "#636efa",
           "#EF553B",
           "#00cc96",
           "#ab63fa",
           "#FFA15A",
           "#19d3f3",
           "#FF6692",
           "#B6E880",
           "#FF97FF",
           "#FECB52"
          ],
          "font": {
           "color": "#2a3f5f"
          },
          "geo": {
           "bgcolor": "white",
           "lakecolor": "white",
           "landcolor": "white",
           "showlakes": true,
           "showland": true,
           "subunitcolor": "#C8D4E3"
          },
          "hoverlabel": {
           "align": "left"
          },
          "hovermode": "closest",
          "mapbox": {
           "style": "light"
          },
          "paper_bgcolor": "white",
          "plot_bgcolor": "white",
          "polar": {
           "angularaxis": {
            "gridcolor": "#EBF0F8",
            "linecolor": "#EBF0F8",
            "ticks": ""
           },
           "bgcolor": "white",
           "radialaxis": {
            "gridcolor": "#EBF0F8",
            "linecolor": "#EBF0F8",
            "ticks": ""
           }
          },
          "scene": {
           "xaxis": {
            "backgroundcolor": "white",
            "gridcolor": "#DFE8F3",
            "gridwidth": 2,
            "linecolor": "#EBF0F8",
            "showbackground": true,
            "ticks": "",
            "zerolinecolor": "#EBF0F8"
           },
           "yaxis": {
            "backgroundcolor": "white",
            "gridcolor": "#DFE8F3",
            "gridwidth": 2,
            "linecolor": "#EBF0F8",
            "showbackground": true,
            "ticks": "",
            "zerolinecolor": "#EBF0F8"
           },
           "zaxis": {
            "backgroundcolor": "white",
            "gridcolor": "#DFE8F3",
            "gridwidth": 2,
            "linecolor": "#EBF0F8",
            "showbackground": true,
            "ticks": "",
            "zerolinecolor": "#EBF0F8"
           }
          },
          "shapedefaults": {
           "line": {
            "color": "#2a3f5f"
           }
          },
          "ternary": {
           "aaxis": {
            "gridcolor": "#DFE8F3",
            "linecolor": "#A2B1C6",
            "ticks": ""
           },
           "baxis": {
            "gridcolor": "#DFE8F3",
            "linecolor": "#A2B1C6",
            "ticks": ""
           },
           "bgcolor": "white",
           "caxis": {
            "gridcolor": "#DFE8F3",
            "linecolor": "#A2B1C6",
            "ticks": ""
           }
          },
          "title": {
           "x": 0.05
          },
          "xaxis": {
           "automargin": true,
           "gridcolor": "#EBF0F8",
           "linecolor": "#EBF0F8",
           "ticks": "",
           "title": {
            "standoff": 15
           },
           "zerolinecolor": "#EBF0F8",
           "zerolinewidth": 2
          },
          "yaxis": {
           "automargin": true,
           "gridcolor": "#EBF0F8",
           "linecolor": "#EBF0F8",
           "ticks": "",
           "title": {
            "standoff": 15
           },
           "zerolinecolor": "#EBF0F8",
           "zerolinewidth": 2
          }
         }
        },
        "title": {
         "text": "Average Expression of Marker Genes per Cluster"
        },
        "xaxis": {
         "side": "bottom",
         "title": {
          "text": "Marker Gene"
         }
        },
        "yaxis": {
         "tickmode": "array",
         "tickvals": [
          0,
          1,
          2,
          3,
          4,
          5,
          6,
          7,
          8
         ],
         "title": {
          "text": "Cluster"
         }
        }
       }
      }
     },
     "metadata": {},
     "output_type": "display_data"
    }
   ],
   "source": [
    "from _dynamicMatrixPlot import DynamicMatrixPlot\n",
    "warnings.filterwarnings('ignore')\n",
    "\n",
    "dynamic_plot = DynamicMatrixPlot(pbmc, gene_list, 'cell type')\n",
    "dynamic_plot.compute_stats(marker_genes_dict, pbmc)\n",
    "dynamic_plot.display_widgets(marker_genes_dict)"
   ]
  }
 ],
 "metadata": {
  "kernelspec": {
   "display_name": "Python 3 (ipykernel)",
   "language": "python",
   "name": "python3"
  },
  "language_info": {
   "codemirror_mode": {
    "name": "ipython",
    "version": 3
   },
   "file_extension": ".py",
   "mimetype": "text/x-python",
   "name": "python",
   "nbconvert_exporter": "python",
   "pygments_lexer": "ipython3",
   "version": "3.11.5"
  }
 },
 "nbformat": 4,
 "nbformat_minor": 5
}
